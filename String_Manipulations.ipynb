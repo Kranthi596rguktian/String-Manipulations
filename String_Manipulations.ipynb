{
 "cells": [
  {
   "cell_type": "code",
   "execution_count": 1,
   "metadata": {},
   "outputs": [
    {
     "data": {
      "text/plain": [
       "['__add__',\n",
       " '__class__',\n",
       " '__contains__',\n",
       " '__delattr__',\n",
       " '__dir__',\n",
       " '__doc__',\n",
       " '__eq__',\n",
       " '__format__',\n",
       " '__ge__',\n",
       " '__getattribute__',\n",
       " '__getitem__',\n",
       " '__getnewargs__',\n",
       " '__gt__',\n",
       " '__hash__',\n",
       " '__init__',\n",
       " '__init_subclass__',\n",
       " '__iter__',\n",
       " '__le__',\n",
       " '__len__',\n",
       " '__lt__',\n",
       " '__mod__',\n",
       " '__mul__',\n",
       " '__ne__',\n",
       " '__new__',\n",
       " '__reduce__',\n",
       " '__reduce_ex__',\n",
       " '__repr__',\n",
       " '__rmod__',\n",
       " '__rmul__',\n",
       " '__setattr__',\n",
       " '__sizeof__',\n",
       " '__str__',\n",
       " '__subclasshook__',\n",
       " 'capitalize',\n",
       " 'casefold',\n",
       " 'center',\n",
       " 'count',\n",
       " 'encode',\n",
       " 'endswith',\n",
       " 'expandtabs',\n",
       " 'find',\n",
       " 'format',\n",
       " 'format_map',\n",
       " 'index',\n",
       " 'isalnum',\n",
       " 'isalpha',\n",
       " 'isascii',\n",
       " 'isdecimal',\n",
       " 'isdigit',\n",
       " 'isidentifier',\n",
       " 'islower',\n",
       " 'isnumeric',\n",
       " 'isprintable',\n",
       " 'isspace',\n",
       " 'istitle',\n",
       " 'isupper',\n",
       " 'join',\n",
       " 'ljust',\n",
       " 'lower',\n",
       " 'lstrip',\n",
       " 'maketrans',\n",
       " 'partition',\n",
       " 'replace',\n",
       " 'rfind',\n",
       " 'rindex',\n",
       " 'rjust',\n",
       " 'rpartition',\n",
       " 'rsplit',\n",
       " 'rstrip',\n",
       " 'split',\n",
       " 'splitlines',\n",
       " 'startswith',\n",
       " 'strip',\n",
       " 'swapcase',\n",
       " 'title',\n",
       " 'translate',\n",
       " 'upper',\n",
       " 'zfill']"
      ]
     },
     "execution_count": 1,
     "metadata": {},
     "output_type": "execute_result"
    }
   ],
   "source": [
    "dir(str)"
   ]
  },
  {
   "cell_type": "code",
   "execution_count": 116,
   "metadata": {},
   "outputs": [],
   "source": [
    "s = 'I want to learn Python Programming Language. Python is popular programming Language'"
   ]
  },
  {
   "cell_type": "markdown",
   "metadata": {},
   "source": [
    "##### 1. `capitalize()` - Returns a copy of the string with its first character capitalized and the rest lowercased.`"
   ]
  },
  {
   "cell_type": "code",
   "execution_count": 117,
   "metadata": {},
   "outputs": [
    {
     "data": {
      "text/plain": [
       "('I want to learn python programming language. python is popular programming language',\n",
       " 'I want to learn Python Programming Language. Python is popular programming Language')"
      ]
     },
     "execution_count": 117,
     "metadata": {},
     "output_type": "execute_result"
    }
   ],
   "source": [
    "s.capitalize(),s"
   ]
  },
  {
   "cell_type": "markdown",
   "metadata": {},
   "source": [
    "##### 2. `casefold()`- Returns a casefolded copy of the string. Casefolded strings may be used for caseless matching.`"
   ]
  },
  {
   "cell_type": "code",
   "execution_count": 118,
   "metadata": {},
   "outputs": [
    {
     "name": "stdout",
     "output_type": "stream",
     "text": [
      "hello python\n"
     ]
    }
   ],
   "source": [
    "mystring = \"hello PYTHON\"\n",
    "print(mystring.casefold())"
   ]
  },
  {
   "cell_type": "markdown",
   "metadata": {},
   "source": [
    "##### 3. `Center(width, [fillchar])` - Returns the string centered in a string of length width. Padding can be done using the specified fillchar               (the default padding uses an ASCII space). The original string is returned if width is less than or equal to len(s)"
   ]
  },
  {
   "cell_type": "code",
   "execution_count": 119,
   "metadata": {},
   "outputs": [
    {
     "data": {
      "text/plain": [
       "'**kranthi**'"
      ]
     },
     "execution_count": 119,
     "metadata": {},
     "output_type": "execute_result"
    }
   ],
   "source": [
    "'kranthi'.center(11,'*')"
   ]
  },
  {
   "cell_type": "markdown",
   "metadata": {},
   "source": [
    "##### 4.`Count(sub, [start], [end])` -  Returns the number of non-overlapping occurrences of substring (sub) in the range [start, end]. Optional arguments startand end are interpreted as in slice notation."
   ]
  },
  {
   "cell_type": "code",
   "execution_count": 120,
   "metadata": {},
   "outputs": [
    {
     "name": "stdout",
     "output_type": "stream",
     "text": [
      "I want to learn Python Programming Language. Python is popular programming Language\n"
     ]
    },
    {
     "data": {
      "text/plain": [
       "2"
      ]
     },
     "execution_count": 120,
     "metadata": {},
     "output_type": "execute_result"
    }
   ],
   "source": [
    "print(s)\n",
    "s.count('Python')\n"
   ]
  },
  {
   "cell_type": "markdown",
   "metadata": {},
   "source": [
    "##### 5. `Encode(encoding = “utf-g”, errors = “strict”)`:    \n",
    "Returns an encoded version of the string as a bytes object. The default encoding is utf-8. errors may be given to set a different error handling scheme. The possible value for errors are:\n",
    "strict (encoding errors raise a UnicodeError)\n",
    "\n",
    "ignore\n",
    "\n",
    "replace\n",
    "\n",
    "xmlcharrefreplace\n",
    "\n",
    "backslashreplace\n",
    "\n",
    "any other name registered via codecs.register_error()"
   ]
  },
  {
   "cell_type": "code",
   "execution_count": 121,
   "metadata": {},
   "outputs": [
    {
     "name": "stdout",
     "output_type": "stream",
     "text": [
      "The string is: python!\n",
      "The encoded version is:  b'python!'\n",
      "The encoded version (with replace) is: b'python!'\n"
     ]
    }
   ],
   "source": [
    "mystr = 'python!'\n",
    "print('The string is:', mystr)\n",
    "\n",
    "print('The encoded version is: ', mystr.encode(\"ascii\", \"ignore\"))\n",
    "\n",
    "print('The encoded version (with replace) is:', mystr.encode(\"ascii\", \"replace\"))\n"
   ]
  },
  {
   "cell_type": "markdown",
   "metadata": {},
   "source": [
    "##### 5. `endswith(suffix, [start], [end])`: Returns True if the string ends with the specified suffix, otherwise it returns False."
   ]
  },
  {
   "cell_type": "code",
   "execution_count": 122,
   "metadata": {},
   "outputs": [
    {
     "name": "stdout",
     "output_type": "stream",
     "text": [
      "False\n",
      "True\n"
     ]
    }
   ],
   "source": [
    "mystr = \"Python\"\n",
    "print(mystr.endswith(\"y\"))\n",
    "print(mystr.endswith(\"hon\"))"
   ]
  },
  {
   "cell_type": "markdown",
   "metadata": {},
   "source": [
    "##### 6.`Expandtabs(tabsize=8)` : Returns a copy of the string where all tab characters are replaced by one or more spaces, depending on the current column and the given tab size."
   ]
  },
  {
   "cell_type": "code",
   "execution_count": 124,
   "metadata": {},
   "outputs": [
    {
     "name": "stdout",
     "output_type": "stream",
     "text": [
      "1\t2\t3\n",
      "1       2       3\n",
      "1              2              3\n",
      "1 2 3\n"
     ]
    }
   ],
   "source": [
    "mystr = \"1\\t2\\t3\"\n",
    "print(mystr)\n",
    "print(mystr.expandtabs())\n",
    "print(mystr.expandtabs(tabsize=15))\n",
    "print(mystr.expandtabs(tabsize=1))"
   ]
  },
  {
   "cell_type": "markdown",
   "metadata": {},
   "source": [
    "##### 7.`Find(sub, [start], [end])`: Returns the lowest index in the string where substring sub is found within the slice s[start:end]."
   ]
  },
  {
   "cell_type": "code",
   "execution_count": 125,
   "metadata": {},
   "outputs": [
    {
     "name": "stdout",
     "output_type": "stream",
     "text": [
      "0\n",
      "4\n",
      "-1\n"
     ]
    },
    {
     "ename": "ValueError",
     "evalue": "substring not found",
     "output_type": "error",
     "traceback": [
      "\u001b[1;31m---------------------------------------------------------------------------\u001b[0m",
      "\u001b[1;31mValueError\u001b[0m                                Traceback (most recent call last)",
      "\u001b[1;32m<ipython-input-125-f87396404921>\u001b[0m in \u001b[0;36m<module>\u001b[1;34m\u001b[0m\n\u001b[0;32m      5\u001b[0m \u001b[0mprint\u001b[0m\u001b[1;33m(\u001b[0m\u001b[0mmystring\u001b[0m\u001b[1;33m.\u001b[0m\u001b[0mfind\u001b[0m\u001b[1;33m(\u001b[0m\u001b[1;34m\"on\"\u001b[0m\u001b[1;33m)\u001b[0m\u001b[1;33m)\u001b[0m\u001b[1;33m\u001b[0m\u001b[1;33m\u001b[0m\u001b[0m\n\u001b[0;32m      6\u001b[0m \u001b[0mprint\u001b[0m\u001b[1;33m(\u001b[0m\u001b[0mmystring\u001b[0m\u001b[1;33m.\u001b[0m\u001b[0mfind\u001b[0m\u001b[1;33m(\u001b[0m\u001b[1;34m's'\u001b[0m\u001b[1;33m)\u001b[0m\u001b[1;33m)\u001b[0m\u001b[1;33m\u001b[0m\u001b[1;33m\u001b[0m\u001b[0m\n\u001b[1;32m----> 7\u001b[1;33m \u001b[0mprint\u001b[0m\u001b[1;33m(\u001b[0m\u001b[0mmystring\u001b[0m\u001b[1;33m.\u001b[0m\u001b[0mindex\u001b[0m\u001b[1;33m(\u001b[0m\u001b[1;34m's'\u001b[0m\u001b[1;33m)\u001b[0m\u001b[1;33m)\u001b[0m\u001b[1;33m\u001b[0m\u001b[1;33m\u001b[0m\u001b[0m\n\u001b[0m",
      "\u001b[1;31mValueError\u001b[0m: substring not found"
     ]
    }
   ],
   "source": [
    "mystring = \"Python\"\n",
    "\n",
    "print(mystring.find(\"P\"))\n",
    "\n",
    "print(mystring.find(\"on\"))\n",
    "print(mystring.find('s'))\n",
    "print(mystring.index('s'))"
   ]
  },
  {
   "cell_type": "markdown",
   "metadata": {},
   "source": [
    "##### 8.`Format(*args, **kwargs)`: Performs a string formatting operation. The string on which this method is called can contain literal text or replacement fields delimited by braces {}."
   ]
  },
  {
   "cell_type": "code",
   "execution_count": 126,
   "metadata": {},
   "outputs": [
    {
     "name": "stdout",
     "output_type": "stream",
     "text": [
      "Apple and Banana\n",
      "Banana and Apple\n",
      "Peas and Beans\n"
     ]
    }
   ],
   "source": [
    "print(\"{} and {}\".format(\"Apple\", \"Banana\"))\n",
    "\n",
    "print(\"{1} and {0}\".format(\"Apple\", \"Banana\"))\n",
    "\n",
    "print(\"{lunch} and {dinner}\".format(lunch=\"Peas\", dinner=\"Beans\"))\n"
   ]
  },
  {
   "cell_type": "markdown",
   "metadata": {},
   "source": [
    "##### 9. `format_map(mapping)`: Similar to format(**mapping), except that mapping is used directly and not copied to a dictionary."
   ]
  },
  {
   "cell_type": "code",
   "execution_count": 127,
   "metadata": {},
   "outputs": [
    {
     "name": "stdout",
     "output_type": "stream",
     "text": [
      "Lunch: Pizza, Wine\n"
     ]
    }
   ],
   "source": [
    "lunch = {\"Food\":\"Pizza\", \"Drink\": \"Wine\"}\n",
    "print(\"Lunch: {Food}, {Drink}\".format_map(lunch))\n"
   ]
  },
  {
   "cell_type": "markdown",
   "metadata": {},
   "source": [
    "##### 10.`Index(sub, [start], [end])`: Searches the string for a specified value and returns the position of where it was found"
   ]
  },
  {
   "cell_type": "code",
   "execution_count": 132,
   "metadata": {},
   "outputs": [
    {
     "name": "stdout",
     "output_type": "stream",
     "text": [
      "5\n",
      "8\n",
      "4\n"
     ]
    }
   ],
   "source": [
    "mystr = \"HelloPython\"\n",
    "print(mystr.index(\"P\"))\n",
    "\n",
    "\n",
    "print(mystr.index(\"hon\"))\n",
    "\n",
    "print(mystr.index(\"o\"))\n"
   ]
  },
  {
   "cell_type": "code",
   "execution_count": null,
   "metadata": {},
   "outputs": [],
   "source": [
    "isalnum\n",
    "Isalpha()\n",
    "Isdecimal()\n",
    "Isdigit()    -Returns True if all characters in the string are digits \n",
    "isidentifier()\n",
    "Islower()\n",
    "Isnumeric()  - Returns True if all characters in the string are numeric\n",
    "isprintable()- Returns True if all characters in the string are printable\n",
    "isspace()    - Returns True if all characters in the string are whitespaces\n",
    "istitle()\n",
    "isupper()\n"
   ]
  },
  {
   "cell_type": "code",
   "execution_count": 135,
   "metadata": {},
   "outputs": [
    {
     "data": {
      "text/plain": [
       "'kranthi kumar'"
      ]
     },
     "execution_count": 135,
     "metadata": {},
     "output_type": "execute_result"
    }
   ],
   "source": [
    "' '.join(['kranthi','kumar'])"
   ]
  },
  {
   "cell_type": "markdown",
   "metadata": {},
   "source": [
    "##### 11.`join()`     - Joins the elements of an iterable to the end of the string\n",
    "'_'.join('kranthi')"
   ]
  },
  {
   "cell_type": "markdown",
   "metadata": {},
   "source": [
    "##### 12.`ljust(width[,fillchar])`: Returns a left justified version of the string"
   ]
  },
  {
   "cell_type": "code",
   "execution_count": 136,
   "metadata": {},
   "outputs": [
    {
     "name": "stdout",
     "output_type": "stream",
     "text": [
      "Hello_______\n"
     ]
    }
   ],
   "source": [
    "a=\"Hello\"\n",
    "b = a.ljust(12, \"_\")\n",
    "print(b)\n",
    "# Similarly rljust also the same"
   ]
  },
  {
   "cell_type": "markdown",
   "metadata": {},
   "source": [
    "##### 13. `lstrip([chars])`: Returns a left trim version of the string"
   ]
  },
  {
   "cell_type": "code",
   "execution_count": 140,
   "metadata": {},
   "outputs": [
    {
     "name": "stdout",
     "output_type": "stream",
     "text": [
      "Hello !\n"
     ]
    }
   ],
   "source": [
    "a = \"   Hello     \"\n",
    "print(a.strip(),\"!\")\n"
   ]
  },
  {
   "cell_type": "markdown",
   "metadata": {},
   "source": [
    "##### 14.`maketrans(x[, y[, z]])`: Returns a translation table to be used in translations"
   ]
  },
  {
   "cell_type": "code",
   "execution_count": 149,
   "metadata": {},
   "outputs": [
    {
     "name": "stdout",
     "output_type": "stream",
     "text": [
      "4004040\n"
     ]
    }
   ],
   "source": [
    "frm = \"SecretCode\"\n",
    "to = \"4203040540\"\n",
    "trans_table = str.maketrans(frm,to)\n",
    "sec_code = \"Sectete\".translate(trans_table)\n",
    "print(sec_code)"
   ]
  },
  {
   "cell_type": "markdown",
   "metadata": {},
   "source": [
    "##### 15.`partition(sep)`:Returns a tuple where the string is parted into three parts"
   ]
  },
  {
   "cell_type": "code",
   "execution_count": 151,
   "metadata": {},
   "outputs": [
    {
     "name": "stdout",
     "output_type": "stream",
     "text": [
      "('d adfad adfa Hello-Python ', 'yadav', ' nandan akdf da fadf adf')\n",
      "('d adfad adfa Hello-Python yadav nandan akdf da fadf adf', '', '')\n"
     ]
    }
   ],
   "source": [
    "mystr = \"d adfad adfa Hello-Python yadav nandan akdf da fadf adf\"\n",
    "print(mystr.partition(\"yadav\"))\n",
    "\n",
    "print(mystr.partition(\".\"))\n"
   ]
  },
  {
   "cell_type": "markdown",
   "metadata": {},
   "source": [
    "###### 16.`replace(old, new[,count])`: Returns a string where a specified value is replaced with a specified value"
   ]
  },
  {
   "cell_type": "code",
   "execution_count": 152,
   "metadata": {},
   "outputs": [
    {
     "name": "stdout",
     "output_type": "stream",
     "text": [
      "Bye Python.\n",
      "Hell Python.\n"
     ]
    }
   ],
   "source": [
    "mystr = \"Hello Python.\"\n",
    "\n",
    "print(mystr.replace(\"Hello\", \"Bye\"))\n",
    "\n",
    "print(mystr.replace(\"Hello\", \"Hell\", 2))\n"
   ]
  },
  {
   "cell_type": "markdown",
   "metadata": {},
   "source": [
    "##### `17.rfind(sub[, start[,end]])`: Searches the string for a specified value and returns the last position of where it was found"
   ]
  },
  {
   "cell_type": "code",
   "execution_count": 170,
   "metadata": {},
   "outputs": [
    {
     "name": "stdout",
     "output_type": "stream",
     "text": [
      "13\n",
      "5\n",
      "-1\n"
     ]
    }
   ],
   "source": [
    "mystr = \"Hello-PythPonP\"\n",
    "\n",
    "\n",
    "#print([i for i in enumerate(mystr)])\n",
    "print(mystr.rfind(\"P\"))\n",
    "\n",
    "print(mystr.rfind(\"-\"))\n",
    "\n",
    "print(mystr.rfind(\"z\"))"
   ]
  },
  {
   "cell_type": "markdown",
   "metadata": {},
   "source": [
    "##### 18.`rindex(sub[, start[,end]])` : Searches the string for a specified value and returns the last position of where it was found"
   ]
  },
  {
   "cell_type": "code",
   "execution_count": 171,
   "metadata": {},
   "outputs": [
    {
     "name": "stdout",
     "output_type": "stream",
     "text": [
      "12\n",
      "5\n"
     ]
    },
    {
     "ename": "ValueError",
     "evalue": "substring not found",
     "output_type": "error",
     "traceback": [
      "\u001b[1;31m---------------------------------------------------------------------------\u001b[0m",
      "\u001b[1;31mValueError\u001b[0m                                Traceback (most recent call last)",
      "\u001b[1;32m<ipython-input-171-bfbc5712c1f0>\u001b[0m in \u001b[0;36m<module>\u001b[1;34m\u001b[0m\n\u001b[0;32m      4\u001b[0m \u001b[0mprint\u001b[0m\u001b[1;33m(\u001b[0m\u001b[0mmystr\u001b[0m\u001b[1;33m.\u001b[0m\u001b[0mrindex\u001b[0m\u001b[1;33m(\u001b[0m\u001b[1;34m\"-\"\u001b[0m\u001b[1;33m)\u001b[0m\u001b[1;33m)\u001b[0m\u001b[1;33m\u001b[0m\u001b[1;33m\u001b[0m\u001b[0m\n\u001b[0;32m      5\u001b[0m \u001b[1;33m\u001b[0m\u001b[0m\n\u001b[1;32m----> 6\u001b[1;33m \u001b[0mprint\u001b[0m\u001b[1;33m(\u001b[0m\u001b[0mmystr\u001b[0m\u001b[1;33m.\u001b[0m\u001b[0mrindex\u001b[0m\u001b[1;33m(\u001b[0m\u001b[1;34m\"z\"\u001b[0m\u001b[1;33m)\u001b[0m\u001b[1;33m)\u001b[0m\u001b[1;33m\u001b[0m\u001b[1;33m\u001b[0m\u001b[0m\n\u001b[0m\u001b[0;32m      7\u001b[0m \u001b[0mprint\u001b[0m\u001b[1;33m(\u001b[0m\u001b[0mmystr\u001b[0m\u001b[1;33m.\u001b[0m\u001b[0mrindex\u001b[0m\u001b[1;33m(\u001b[0m\u001b[1;34m\"z\"\u001b[0m\u001b[1;33m)\u001b[0m\u001b[1;33m)\u001b[0m\u001b[1;33m\u001b[0m\u001b[1;33m\u001b[0m\u001b[0m\n",
      "\u001b[1;31mValueError\u001b[0m: substring not found"
     ]
    }
   ],
   "source": [
    "mystr = \"Hello-PythonP\"\n",
    "print(mystr.rindex(\"P\"))\n",
    "\n",
    "print(mystr.rindex(\"-\"))\n",
    "\n",
    "print(mystr.rindex(\"z\"))\n",
    "print(mystr.rindex(\"z\"))\n"
   ]
  },
  {
   "cell_type": "markdown",
   "metadata": {},
   "source": [
    "##### 19.`rpartition(sep)`: Returns a tuple where the string is parted into three parts"
   ]
  },
  {
   "cell_type": "code",
   "execution_count": 172,
   "metadata": {},
   "outputs": [
    {
     "name": "stdout",
     "output_type": "stream",
     "text": [
      "('', '', 'Hello Python')\n",
      "('Hello', ' ', 'Python')\n"
     ]
    }
   ],
   "source": [
    "mystr = \"Hello Python\"\n",
    "\n",
    "print(mystr.rpartition(\".\"))\n",
    "print(mystr.rpartition(\" \"))"
   ]
  },
  {
   "cell_type": "markdown",
   "metadata": {},
   "source": [
    "##### 20.`rsplit(sep=None, maxsplit=-1)`: Splits the string at the specified separator, and returns a list"
   ]
  },
  {
   "cell_type": "code",
   "execution_count": 173,
   "metadata": {},
   "outputs": [
    {
     "name": "stdout",
     "output_type": "stream",
     "text": [
      "['Hello', 'Python']\n",
      "['Hello-Python', 'Hello']\n"
     ]
    }
   ],
   "source": [
    "mystr = \"Hello Python\"\n",
    "print(mystr.rsplit())\n",
    "mystr = \"Hello-Python-Hello\"\n",
    "\n",
    "print(mystr.rsplit(sep=\"-\",maxsplit=1))\n"
   ]
  },
  {
   "cell_type": "markdown",
   "metadata": {},
   "source": [
    "##### 21.`rstrip([chars])`: Returns a right trim version of the string"
   ]
  },
  {
   "cell_type": "code",
   "execution_count": 174,
   "metadata": {},
   "outputs": [
    {
     "name": "stdout",
     "output_type": "stream",
     "text": [
      "! Hello Python !\n",
      "------------Hello Python----------- -\n",
      "------------Hello Python----------- _\n"
     ]
    }
   ],
   "source": [
    "mystr = \"Hello Python\"\n",
    "print(\"!\",mystr.rstrip(),\"!\")\n",
    "mystr = \"------------Hello Python-----------\"\n",
    "print(mystr.rstrip(), \"-\")\n",
    "print(mystr.rstrip(),\"_\")"
   ]
  },
  {
   "cell_type": "markdown",
   "metadata": {},
   "source": [
    "##### 22.`splitlines([keepends])`: Splits the string at line breaks and returns a list"
   ]
  },
  {
   "cell_type": "code",
   "execution_count": 177,
   "metadata": {},
   "outputs": [
    {
     "name": "stdout",
     "output_type": "stream",
     "text": [
      "['Hello:', 'Python', 'Java', 'C++']\n",
      "['Hello:\\n', '\\n', ' Python\\r\\n', 'Java\\n', 'C++\\n']\n"
     ]
    }
   ],
   "source": [
    "mystr = \"Hello:\\n\\n Python\\r\\nJava\\nC++\\n\"\n",
    "print(mystr.split())\n",
    "print(mystr.splitlines(keepends=True))"
   ]
  },
  {
   "cell_type": "markdown",
   "metadata": {},
   "source": [
    "##### 23.`startswith(prefix[,start[, end]])`: Returns true if the string starts with the specified value"
   ]
  },
  {
   "cell_type": "markdown",
   "metadata": {},
   "source": [
    "##### 24`swapcase()` : Swaps cases, lower case becomes upper case and vice versa"
   ]
  },
  {
   "cell_type": "code",
   "execution_count": 178,
   "metadata": {},
   "outputs": [
    {
     "name": "stdout",
     "output_type": "stream",
     "text": [
      "hELLO pyTHON\n"
     ]
    }
   ],
   "source": [
    "mystr = \"Hello PYthon\"\n",
    "print(mystr.swapcase())\n"
   ]
  },
  {
   "cell_type": "markdown",
   "metadata": {},
   "source": [
    "##### 25.`title()`: Converts the first character of each word to upper case"
   ]
  },
  {
   "cell_type": "code",
   "execution_count": 179,
   "metadata": {},
   "outputs": [
    {
     "name": "stdout",
     "output_type": "stream",
     "text": [
      "Hello Python\n",
      "Hello Java\n"
     ]
    }
   ],
   "source": [
    "mystr = \"Hello PYthon\"\n",
    "print(mystr.title())\n",
    "mystr = \"HELLO JAVA\"\n",
    "print(mystr.title())\n"
   ]
  },
  {
   "cell_type": "markdown",
   "metadata": {},
   "source": [
    "##### 26.`translate(table)`: Returns a translated string"
   ]
  },
  {
   "cell_type": "code",
   "execution_count": 180,
   "metadata": {},
   "outputs": [
    {
     "name": "stdout",
     "output_type": "stream",
     "text": [
      "S0cr06 C3d0\n"
     ]
    }
   ],
   "source": [
    "frm = \"helloPython\"\n",
    "to = \"40250666333\"\n",
    "trans_table = str.maketrans(frm, to)\n",
    "secret_code = \"Secret Code\".translate(trans_table)\n",
    "print(secret_code)\n"
   ]
  },
  {
   "cell_type": "markdown",
   "metadata": {},
   "source": [
    "##### 27.`zfill(width)`: Fills the string with a specified number of 0 values at the beginning"
   ]
  },
  {
   "cell_type": "code",
   "execution_count": 115,
   "metadata": {},
   "outputs": [
    {
     "name": "stdout",
     "output_type": "stream",
     "text": [
      "000000999\n",
      "-0040\n"
     ]
    }
   ],
   "source": [
    "mystr = \"999\"\n",
    "print(mystr.zfill(9))\n",
    "mystr = \"-40\"\n",
    "print(mystr.zfill(5))\n"
   ]
  },
  {
   "cell_type": "code",
   "execution_count": null,
   "metadata": {},
   "outputs": [],
   "source": []
  }
 ],
 "metadata": {
  "kernelspec": {
   "display_name": "Python 3",
   "language": "python",
   "name": "python3"
  },
  "language_info": {
   "codemirror_mode": {
    "name": "ipython",
    "version": 3
   },
   "file_extension": ".py",
   "mimetype": "text/x-python",
   "name": "python",
   "nbconvert_exporter": "python",
   "pygments_lexer": "ipython3",
   "version": "3.7.6"
  }
 },
 "nbformat": 4,
 "nbformat_minor": 4
}
